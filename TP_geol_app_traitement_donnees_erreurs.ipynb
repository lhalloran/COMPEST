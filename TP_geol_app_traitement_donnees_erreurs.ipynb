{
  "nbformat": 4,
  "nbformat_minor": 0,
  "metadata": {
    "colab": {
      "name": "TP_geol_app-traitement_donnees_erreurs.ipynb",
      "provenance": [],
      "authorship_tag": "ABX9TyOHa4bPi2xq9kjmzSaethX0",
      "include_colab_link": true
    },
    "kernelspec": {
      "name": "python3",
      "display_name": "Python 3"
    }
  },
  "cells": [
    {
      "cell_type": "markdown",
      "metadata": {
        "id": "view-in-github",
        "colab_type": "text"
      },
      "source": [
        "<a href=\"https://colab.research.google.com/github/lhalloran/COMPEST/blob/master/TP_geol_app_traitement_donnees_erreurs.ipynb\" target=\"_parent\"><img src=\"https://colab.research.google.com/assets/colab-badge.svg\" alt=\"Open In Colab\"/></a>"
      ]
    },
    {
      "cell_type": "markdown",
      "metadata": {
        "id": "eRfB77i2xoZG"
      },
      "source": [
        "**TP Experiences et Labo en géologie appliquée**\r\n",
        "\r\n",
        "Traitement de données, calcul d'erreur"
      ]
    },
    {
      "cell_type": "markdown",
      "metadata": {
        "id": "WYsQNox0y8Q3"
      },
      "source": [
        "04.03.2021\r\n",
        "\r\n",
        "Landon Halloran\r\n",
        "\r\n",
        "landon.halloran@unine.ch\r\n",
        "\r\n",
        "\r\n"
      ]
    },
    {
      "cell_type": "code",
      "metadata": {
        "id": "ndeeF_qdyLDf"
      },
      "source": [
        "# importez les modules\r\n",
        "import numpy as np\r\n",
        "import pandas as pd\r\n",
        "import matplotlib.pyplot as plt\r\n",
        "from scipy.stats import norm"
      ],
      "execution_count": 2,
      "outputs": []
    },
    {
      "cell_type": "code",
      "metadata": {
        "id": "xnn7bguZyU1Q"
      },
      "source": [
        "#%% pourquoi l'erreur\r\n",
        "fig, ax = plt.subplots()\r\n",
        "ax.bar([1,2], [6,7], align='center', alpha=0.5, ecolor='black', capsize=10,color=['g','r'])\r\n",
        "ax.set_ylabel('Rendement (%)')\r\n",
        "ax.set_xticks([1,2])\r\n",
        "ax.set_xticklabels(['Süper-value fund','Mëga-growth fund'])\r\n",
        "ax.yaxis.grid(True)\r\n",
        "\r\n",
        "fig, ax = plt.subplots()\r\n",
        "ax.bar([1,2], [6,7], yerr=[4,15], align='center', alpha=0.5, ecolor='black', capsize=10,color=['g','r'])\r\n",
        "ax.set_ylabel('Rendement (%)')\r\n",
        "ax.set_xticks([1,2])\r\n",
        "ax.set_xticklabels(['Süper-value fund','Mëga-growth fund'])\r\n",
        "ax.yaxis.grid(True)\r\n",
        "\r\n",
        "fig, ax = plt.subplots()\r\n",
        "x=np.arange(0,2000,1)\r\n",
        "y1=norm.pdf(x,1000*1.06,1000*0.04)\r\n",
        "y2=norm.pdf(x,1000*1.07,1000*0.15)\r\n",
        "ax.fill(x,y1,alpha=0.5,c='g')\r\n",
        "ax.fill(x,y2,alpha=0.5,c='r')\r\n",
        "ax.set_xlim([800,1300])\r\n",
        "ax.set_ylabel('probabilité')\r\n",
        "ax.set_xlabel('valeur (CHF) de votre investissement après un an')\r\n",
        "ax.grid()\r\n",
        "print('probabilité perte, süper-value = ' + str(np.sum(y1[0:1000])))\r\n",
        "print('probabilité perte, mëga-growth = ' + str(np.sum(y2[0:1000])))"
      ],
      "execution_count": null,
      "outputs": []
    },
    {
      "cell_type": "code",
      "metadata": {
        "id": "m-VZygBHyaTv"
      },
      "source": [
        "#%% \r\n",
        "#numbers with uncertainties\r\n",
        "fig, ax = plt.subplots()\r\n",
        "ax.plot([1,2,3,4], [64,56,61,40],'k',marker='o', linestyle='none',linewidth=0,markersize=12)\r\n",
        "ax.errorbar([1,2,3,4], [64,56,61,40], yerr=[12,6,20,23],c='k',linestyle='none',capsize=10)\r\n",
        "ax.set_ylabel('Age (ka)',fontsize=14)\r\n",
        "ax.set_xticks([1,2,3,4])\r\n",
        "ax.set_xticklabels(['A','B','C','D'],fontsize=12)\r\n",
        "ax.yaxis.grid(True)\r\n",
        "\r\n",
        "# box plots (boîte à moustache)\r\n",
        "boxdata = pd.DataFrame()\r\n",
        "fig, ax = plt.subplots()\r\n",
        "for i in range(10): # créez (fausse) données...\r\n",
        "    spread = np.random.rand(20) * 20 + 50\r\n",
        "    center = np.ones(5) * 60\r\n",
        "    flier_high = np.random.rand(3) * 10 + 75\r\n",
        "    flier_low = np.random.rand(3) * 10 + 35\r\n",
        "    datanow = np.concatenate((spread, center, flier_high, flier_low))\r\n",
        "    np.random.shuffle(datanow)\r\n",
        "    boxdata[i] = datanow\r\n",
        "ax.boxplot(boxdata.transpose(),whis=[5,95]) # créez box plot\r\n",
        "ax.set_ylabel('Age (ka)',fontsize=14)\r\n",
        "ax.set_xlabel('Site',fontsize=14)\r\n",
        "\r\n",
        "fig, ax = plt.subplots()\r\n",
        "ax.plot(boxdata[0],'k',marker='x', linestyle='none',linewidth=0,markersize=10)\r\n",
        "ax.set_xlabel('échantillon',fontsize=14)\r\n",
        "ax.set_ylabel('Age (ka)',fontsize=14)"
      ],
      "execution_count": null,
      "outputs": []
    },
    {
      "cell_type": "code",
      "metadata": {
        "id": "HWfEQsgHydB-"
      },
      "source": [
        "# Gaussian distribution\r\n",
        "x=np.arange(-3,3,0.01)\r\n",
        "y=norm.pdf(x,0,1)\r\n",
        "fig, ax = plt.subplots()\r\n",
        "ax.plot(x,y,lw=3)\r\n",
        "ax.set_xlabel('x',fontsize=14)\r\n",
        "ax.set_ylabel('f(x)',fontsize=14)\r\n",
        "ax.grid()\r\n",
        "\r\n",
        "# fill 1 sigma\r\n",
        "x=np.arange(-3,3,0.01)\r\n",
        "y=norm.pdf(x,0,1)\r\n",
        "fig, ax = plt.subplots()\r\n",
        "ax.plot(x,y,lw=3,c='k')\r\n",
        "ax.fill_between(x[200:400],y[200:400],0,alpha=0.5,color='b')\r\n",
        "ax.set_xlabel('x',fontsize=14)\r\n",
        "ax.set_ylabel('f(x)',fontsize=14)\r\n",
        "ax.grid()\r\n",
        "\r\n",
        "# fill 2 sigma\r\n",
        "x=np.arange(-3,3,0.01)\r\n",
        "y=norm.pdf(x,0,1)\r\n",
        "fig, ax = plt.subplots()\r\n",
        "ax.plot(x,y,lw=3,c='k')\r\n",
        "ax.fill_between(x[100:500],y[100:500],0,alpha=0.5,color='g')\r\n",
        "ax.set_xlabel('x',fontsize=14)\r\n",
        "ax.set_ylabel('f(x)',fontsize=14)\r\n",
        "ax.grid()\r\n",
        "\r\n",
        "# fill 3 sigma\r\n",
        "x=np.arange(-4,4,0.01)\r\n",
        "y=norm.pdf(x,0,1)\r\n",
        "fig, ax = plt.subplots()\r\n",
        "ax.plot(x,y,lw=3,c='k')\r\n",
        "ax.fill_between(x[100:700],y[100:700],0,alpha=0.5,color='r')\r\n",
        "ax.set_xlabel('x',fontsize=14)\r\n",
        "ax.set_ylabel('f(x)',fontsize=14)\r\n",
        "ax.grid()"
      ],
      "execution_count": null,
      "outputs": []
    },
    {
      "cell_type": "code",
      "metadata": {
        "id": "Ev77_GFRFrjW"
      },
      "source": [
        "#%% valeur-p\r\n",
        "x=np.arange(-4,4,0.01)\r\n",
        "y=norm.pdf(x,0,1)\r\n",
        "fig, ax = plt.subplots()\r\n",
        "ax.plot(x+10,y,lw=3,c='k')\r\n",
        "ax.fill_between(x[600:]+10,y[600:],0,alpha=0.5,color='y')\r\n",
        "ax.set_xlabel('conc. du minéral X (%)',fontsize=14)\r\n",
        "ax.set_ylabel('distribution f(x)',fontsize=14)\r\n",
        "ax.grid()\r\n"
      ],
      "execution_count": null,
      "outputs": []
    },
    {
      "cell_type": "code",
      "metadata": {
        "id": "2cuLcw3ayfmn"
      },
      "source": [
        "#%% angle de pendage. moyenne et écart-type pondérés et non-pondérés\r\n",
        "dipa = np.array([45.,45,40,35,45]) # le . après le premier chiffre assure que numpy considère les valeurs comme \"floats\"\r\n",
        "dipasigma = np.array([5.,10,10,5,10])\r\n",
        "print('moyenne non-pondérée = '+ str(np.mean(dipa)))\r\n",
        "print('écart-type non-pondérée = '+ str(np.std(dipa,ddof=1)))\r\n",
        "dipapoids = dipasigma**(-2) # definir les poids\r\n",
        "print('moyenne pondérée = '+ str(np.average(dipa,weights=dipapoids)))\r\n",
        "sigmapond = np.sqrt(np.cov(dipa, aweights=dipapoids)) # malhereusement le std() dans numpy n'a pas de pondérage implémenté, donc voici un \"hack\" simple (ici le matrice de covariance est 1x1)\r\n",
        "print('écart-type pondérée = '+ str(sigmapond))"
      ],
      "execution_count": null,
      "outputs": []
    },
    {
      "cell_type": "code",
      "metadata": {
        "id": "eNgtIRWUyjF_"
      },
      "source": [
        "#%% Ajustement des courbes exemple - module de Young\r\n",
        "deformation = np.array([0.0, 0.001, 0.002, 0.003, 0.004, 0.005, 0.006, 0.007, 0.008,\r\n",
        "       0.009,0.01])\r\n",
        "#P = deformation*50 + np.random.normal(0,0.05,size=(11))\r\n",
        "P = np.array([0,  0.06780143,  0.07808708,  0.18884035,  0.23348198,\r\n",
        "        0.2526252 ,  0.26518975,  0.32043891,  0.38090508,  0.46565133,\r\n",
        "        0.48013039])\r\n",
        "# \r\n",
        "fig, ax = plt.subplots()\r\n",
        "ax.errorbar(deformation,P,yerr=0.05,fmt='ko') # uncertainty of P measurements is 0.05 GPa\r\n",
        "\r\n",
        "def function_for_fit(x,a): # pour le liniaire il y a d'autres facons de faire, mais ceci est generale\r\n",
        "    return x*a\r\n",
        "\r\n",
        "from scipy.optimize import curve_fit\r\n",
        "popt,pcov = curve_fit(function_for_fit,deformation,P)\r\n",
        "Youngs_modulus = popt.squeeze()\r\n",
        "Youngs_modulus_uncertainty = np.sqrt(pcov).squeeze()\r\n",
        "\r\n",
        "# add fit to figure\r\n",
        "ax.plot(deformation,function_for_fit(deformation,Youngs_modulus),'b')\r\n",
        "ax.set_xlabel('déformation, $\\epsilon_E$ (-)',fontsize=14)\r\n",
        "ax.set_ylabel('Pression de contrainte, $\\sigma_E$ (GPa)',fontsize=14)\r\n",
        "ax.grid()\r\n",
        "hl_str = 'E = '+str(Youngs_modulus)+' +/- '+str(Youngs_modulus_uncertainty)+' GPa'\r\n",
        "ax.set_title(hl_str)"
      ],
      "execution_count": null,
      "outputs": []
    },
    {
      "cell_type": "code",
      "metadata": {
        "id": "DmDccqV-yqbv"
      },
      "source": [
        "#%% exemple module de Young, avec +/- 1 et 2 sigma\r\n",
        "# plot with sigma ranges\r\n",
        "fig, ax = plt.subplots()\r\n",
        "t_for_function_plot = np.arange(0,100,0.01) # 50 yrs\r\n",
        "\r\n",
        "ax.fill_between(deformation,function_for_fit(deformation,Youngs_modulus+Youngs_modulus_uncertainty).flatten(),function_for_fit(deformation,Youngs_modulus-Youngs_modulus_uncertainty).flatten(),alpha=0.6,color='b')\r\n",
        "ax.fill_between(deformation,function_for_fit(deformation,Youngs_modulus+2*Youngs_modulus_uncertainty).flatten(),function_for_fit(deformation,Youngs_modulus-2*Youngs_modulus_uncertainty).flatten(),alpha=0.3,color='b')\r\n",
        "ax.plot(deformation,function_for_fit(deformation,Youngs_modulus),'b')\r\n",
        "ax.errorbar(deformation,P,yerr=0.05,fmt='ko') \r\n",
        "ax.set_xlabel('déformation, $\\epsilon_E$ (-)',fontsize=14)\r\n",
        "ax.set_ylabel('Pression de contrainte, $\\sigma_E$ (GPa)',fontsize=14)\r\n",
        "ax.grid()\r\n",
        "ax.set_title(hl_str)"
      ],
      "execution_count": null,
      "outputs": []
    },
    {
      "cell_type": "markdown",
      "metadata": {
        "id": "hnYmWk-ZWU7X"
      },
      "source": [
        "Pour les activités...\r\n",
        "\r\n"
      ]
    },
    {
      "cell_type": "code",
      "metadata": {
        "id": "odg-8Va2yrMP"
      },
      "source": [
        "phlogiston_url = 'https://raw.githubusercontent.com/lhalloran/enseignement_extras/main/phlogiston.csv'\r\n",
        "atacamite_url = 'https://raw.githubusercontent.com/lhalloran/enseignement_extras/main/atacamite.csv'\r\n",
        "\r\n",
        "datain_phlog = pd.read_csv(phlogiston_url)\r\n",
        "datain_ataca = pd.read_csv(atacamite_url)\r\n",
        "\r\n",
        "print(datain_ataca)\r\n",
        "print(datain_phlog)\r\n"
      ],
      "execution_count": null,
      "outputs": []
    }
  ]
}